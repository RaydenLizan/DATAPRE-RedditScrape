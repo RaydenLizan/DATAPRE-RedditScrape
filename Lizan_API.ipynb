{
 "cells": [
  {
   "cell_type": "markdown",
   "id": "4255d80d",
   "metadata": {},
   "source": [
    "# Reddit Scrape\n",
    "Rayden Lizan - S14"
   ]
  },
  {
   "cell_type": "code",
   "execution_count": 2,
   "id": "83b75bee",
   "metadata": {},
   "outputs": [
    {
     "name": "stdout",
     "output_type": "stream",
     "text": [
      "Requirement already satisfied: psaw in c:\\users\\rayde\\anaconda3\\lib\\site-packages (0.1.0)\n",
      "Requirement already satisfied: Click in c:\\users\\rayde\\anaconda3\\lib\\site-packages (from psaw) (7.1.2)\n",
      "Requirement already satisfied: requests in c:\\users\\rayde\\anaconda3\\lib\\site-packages (from psaw) (2.28.0)\n",
      "Requirement already satisfied: certifi>=2017.4.17 in c:\\users\\rayde\\anaconda3\\lib\\site-packages (from requests->psaw) (2020.12.5)\n",
      "Requirement already satisfied: idna<4,>=2.5 in c:\\users\\rayde\\anaconda3\\lib\\site-packages (from requests->psaw) (2.10)\n",
      "Requirement already satisfied: urllib3<1.27,>=1.21.1 in c:\\users\\rayde\\anaconda3\\lib\\site-packages (from requests->psaw) (1.26.4)\n",
      "Requirement already satisfied: charset-normalizer~=2.0.0 in c:\\users\\rayde\\anaconda3\\lib\\site-packages (from requests->psaw) (2.0.12)\n",
      "Note: you may need to restart the kernel to use updated packages.\n"
     ]
    }
   ],
   "source": [
    "pip install psaw"
   ]
  },
  {
   "cell_type": "code",
   "execution_count": 62,
   "id": "909b7099",
   "metadata": {},
   "outputs": [],
   "source": [
    "from psaw import PushshiftAPI\n",
    "import datetime as dt\n",
    "import pandas as pd\n",
    "pd.set_option('display.max_colwidth', None)"
   ]
  },
  {
   "cell_type": "markdown",
   "id": "c9a7949b",
   "metadata": {},
   "source": [
    "## Getting Data"
   ]
  },
  {
   "cell_type": "code",
   "execution_count": 71,
   "id": "650f397e",
   "metadata": {},
   "outputs": [],
   "source": [
    "api = PushshiftAPI()"
   ]
  },
  {
   "cell_type": "code",
   "execution_count": 111,
   "id": "1c1a707c",
   "metadata": {},
   "outputs": [],
   "source": [
    "def redditToDT(subreddit, start, end, maxresults, scrapetime):\n",
    "    results = pd.DataFrame(api.search_submissions(\n",
    "                                after=start,\n",
    "                                before=end,\n",
    "                                subreddit=subreddit,\n",
    "                                filter=[['full_link','author', 'removed_by_category','title', 'selftext', 'subreddit', 'date']],\n",
    "                                limit=maxresults))\n",
    "    \n",
    "    results['scrapetime'] = scrapetime\n",
    "    \n",
    "    results['date'] = pd.to_datetime(results['created_utc'], utc=True, unit='s')\n",
    "    results = results.drop(columns=['d_', 'created', 'created_utc'])\n",
    "    \n",
    "    \n",
    "    return results"
   ]
  },
  {
   "cell_type": "code",
   "execution_count": 109,
   "id": "79244aa7",
   "metadata": {},
   "outputs": [],
   "source": [
    "start = int(dt.datetime(2022, 4, 1).timestamp())\n",
    "end = int(dt.datetime(2022, 6, 1).timestamp())\n",
    "subreddit = 'Minecraft'\n",
    "scrapetime = dt.datetime.now()\n",
    "maxresults = 4"
   ]
  },
  {
   "cell_type": "code",
   "execution_count": 112,
   "id": "1759e010",
   "metadata": {
    "scrolled": true
   },
   "outputs": [
    {
     "data": {
      "text/html": [
       "<div>\n",
       "<style scoped>\n",
       "    .dataframe tbody tr th:only-of-type {\n",
       "        vertical-align: middle;\n",
       "    }\n",
       "\n",
       "    .dataframe tbody tr th {\n",
       "        vertical-align: top;\n",
       "    }\n",
       "\n",
       "    .dataframe thead th {\n",
       "        text-align: right;\n",
       "    }\n",
       "</style>\n",
       "<table border=\"1\" class=\"dataframe\">\n",
       "  <thead>\n",
       "    <tr style=\"text-align: right;\">\n",
       "      <th></th>\n",
       "      <th>author</th>\n",
       "      <th>full_link</th>\n",
       "      <th>removed_by_category</th>\n",
       "      <th>selftext</th>\n",
       "      <th>subreddit</th>\n",
       "      <th>title</th>\n",
       "      <th>scrapetime</th>\n",
       "      <th>date</th>\n",
       "    </tr>\n",
       "  </thead>\n",
       "  <tbody>\n",
       "    <tr>\n",
       "      <th>0</th>\n",
       "      <td>Thunderclap222333</td>\n",
       "      <td>https://www.reddit.com/r/Minecraft/comments/v1titt/day_one_of_creating_dnd_dream_smp_members/</td>\n",
       "      <td>moderator</td>\n",
       "      <td></td>\n",
       "      <td>Minecraft</td>\n",
       "      <td>Day one of creating DnD Dream SMP members</td>\n",
       "      <td>2022-06-27 19:58:55.127521</td>\n",
       "      <td>2022-05-31 15:58:50+00:00</td>\n",
       "    </tr>\n",
       "    <tr>\n",
       "      <th>1</th>\n",
       "      <td>SMH_My_Head</td>\n",
       "      <td>https://www.reddit.com/r/Minecraft/comments/v1tiad/me_trying_to_place_the_glazed_terracotta_irl/</td>\n",
       "      <td>automod_filtered</td>\n",
       "      <td></td>\n",
       "      <td>Minecraft</td>\n",
       "      <td>me trying to place the Glazed terracotta IRL</td>\n",
       "      <td>2022-06-27 19:58:55.127521</td>\n",
       "      <td>2022-05-31 15:58:08+00:00</td>\n",
       "    </tr>\n",
       "    <tr>\n",
       "      <th>2</th>\n",
       "      <td>rDunneWortel</td>\n",
       "      <td>https://www.reddit.com/r/Minecraft/comments/v1ths9/started_a_new_hardcore_after_10_minutes_i_came/</td>\n",
       "      <td></td>\n",
       "      <td>Minecraft</td>\n",
       "      <td>Started a new hardcore after 10 minutes I came across this beauty. Feeling lucky!!!</td>\n",
       "      <td>1653983846.0</td>\n",
       "      <td>2022-06-27 19:58:55.127521</td>\n",
       "      <td>2022-05-31 15:57:26+00:00</td>\n",
       "    </tr>\n",
       "    <tr>\n",
       "      <th>3</th>\n",
       "      <td>I-am-reddit123</td>\n",
       "      <td>https://www.reddit.com/r/Minecraft/comments/v1tgtg/need_help_with_minecraft_on_my_nintendo_switch/</td>\n",
       "      <td>it keeps giving me the error of clear up space when ever I try to load any world I own, despite having 26 gigabytes left on my sd card</td>\n",
       "      <td>Minecraft</td>\n",
       "      <td>need help with minecraft on my Nintendo switch</td>\n",
       "      <td>1653983770.0</td>\n",
       "      <td>2022-06-27 19:58:55.127521</td>\n",
       "      <td>2022-05-31 15:56:10+00:00</td>\n",
       "    </tr>\n",
       "  </tbody>\n",
       "</table>\n",
       "</div>"
      ],
      "text/plain": [
       "              author  \\\n",
       "0  Thunderclap222333   \n",
       "1        SMH_My_Head   \n",
       "2       rDunneWortel   \n",
       "3     I-am-reddit123   \n",
       "\n",
       "                                                                                            full_link  \\\n",
       "0       https://www.reddit.com/r/Minecraft/comments/v1titt/day_one_of_creating_dnd_dream_smp_members/   \n",
       "1    https://www.reddit.com/r/Minecraft/comments/v1tiad/me_trying_to_place_the_glazed_terracotta_irl/   \n",
       "2  https://www.reddit.com/r/Minecraft/comments/v1ths9/started_a_new_hardcore_after_10_minutes_i_came/   \n",
       "3  https://www.reddit.com/r/Minecraft/comments/v1tgtg/need_help_with_minecraft_on_my_nintendo_switch/   \n",
       "\n",
       "                                                                                                                      removed_by_category  \\\n",
       "0                                                                                                                               moderator   \n",
       "1                                                                                                                        automod_filtered   \n",
       "2                                                                                                                                           \n",
       "3  it keeps giving me the error of clear up space when ever I try to load any world I own, despite having 26 gigabytes left on my sd card   \n",
       "\n",
       "    selftext  \\\n",
       "0              \n",
       "1              \n",
       "2  Minecraft   \n",
       "3  Minecraft   \n",
       "\n",
       "                                                                             subreddit  \\\n",
       "0                                                                            Minecraft   \n",
       "1                                                                            Minecraft   \n",
       "2  Started a new hardcore after 10 minutes I came across this beauty. Feeling lucky!!!   \n",
       "3                                       need help with minecraft on my Nintendo switch   \n",
       "\n",
       "                                          title                 scrapetime  \\\n",
       "0     Day one of creating DnD Dream SMP members 2022-06-27 19:58:55.127521   \n",
       "1  me trying to place the Glazed terracotta IRL 2022-06-27 19:58:55.127521   \n",
       "2                                  1653983846.0 2022-06-27 19:58:55.127521   \n",
       "3                                  1653983770.0 2022-06-27 19:58:55.127521   \n",
       "\n",
       "                       date  \n",
       "0 2022-05-31 15:58:50+00:00  \n",
       "1 2022-05-31 15:58:08+00:00  \n",
       "2 2022-05-31 15:57:26+00:00  \n",
       "3 2022-05-31 15:56:10+00:00  "
      ]
     },
     "execution_count": 112,
     "metadata": {},
     "output_type": "execute_result"
    }
   ],
   "source": [
    "results = redditToDT(subreddit, start, end, maxresults, scrapetime)\n",
    "results"
   ]
  },
  {
   "cell_type": "code",
   "execution_count": 75,
   "id": "3a805ed9",
   "metadata": {},
   "outputs": [
    {
     "data": {
      "text/plain": [
       "0           https://www.reddit.com/r/Minecraft/comments/v1titt/day_one_of_creating_dnd_dream_smp_members/\n",
       "1        https://www.reddit.com/r/Minecraft/comments/v1tiad/me_trying_to_place_the_glazed_terracotta_irl/\n",
       "2      https://www.reddit.com/r/Minecraft/comments/v1ths9/started_a_new_hardcore_after_10_minutes_i_came/\n",
       "3      https://www.reddit.com/r/Minecraft/comments/v1tgtg/need_help_with_minecraft_on_my_nintendo_switch/\n",
       "4                                         https://www.reddit.com/r/Minecraft/comments/v1tgen/great_start/\n",
       "5                     https://www.reddit.com/r/Minecraft/comments/v1te97/an_idea_for_the_sculk_dimension/\n",
       "6    https://www.reddit.com/r/Minecraft/comments/v1taws/til_minecrafts_ore_formation_is_not_as_wack_as_i/\n",
       "7                                  https://www.reddit.com/r/Minecraft/comments/v1t6kz/context_at_the_end/\n",
       "8                                 https://www.reddit.com/r/Minecraft/comments/v1t65e/wtf_herobrine_sheep/\n",
       "9                              https://www.reddit.com/r/Minecraft/comments/v1t489/craftee_crafting_guide/\n",
       "Name: full_link, dtype: object"
      ]
     },
     "execution_count": 75,
     "metadata": {},
     "output_type": "execute_result"
    }
   ],
   "source": [
    "results['full_link']"
   ]
  },
  {
   "cell_type": "markdown",
   "id": "b24e97ec",
   "metadata": {},
   "source": [
    "## Preprocessing and analyzing data"
   ]
  },
  {
   "cell_type": "code",
   "execution_count": 13,
   "id": "f38f31e3",
   "metadata": {},
   "outputs": [
    {
     "data": {
      "text/html": [
       "<div>\n",
       "<style scoped>\n",
       "    .dataframe tbody tr th:only-of-type {\n",
       "        vertical-align: middle;\n",
       "    }\n",
       "\n",
       "    .dataframe tbody tr th {\n",
       "        vertical-align: top;\n",
       "    }\n",
       "\n",
       "    .dataframe thead th {\n",
       "        text-align: right;\n",
       "    }\n",
       "</style>\n",
       "<table border=\"1\" class=\"dataframe\">\n",
       "  <thead>\n",
       "    <tr style=\"text-align: right;\">\n",
       "      <th></th>\n",
       "      <th>author</th>\n",
       "      <th>created_utc</th>\n",
       "      <th>selftext</th>\n",
       "      <th>subreddit</th>\n",
       "      <th>title</th>\n",
       "      <th>url</th>\n",
       "      <th>scrapetime</th>\n",
       "      <th>date</th>\n",
       "    </tr>\n",
       "  </thead>\n",
       "  <tbody>\n",
       "    <tr>\n",
       "      <th>3</th>\n",
       "      <td>I-am-reddit123</td>\n",
       "      <td>1654012570</td>\n",
       "      <td>it keeps giving me the error of clear up space...</td>\n",
       "      <td>Minecraft</td>\n",
       "      <td>need help with minecraft on my Nintendo switch</td>\n",
       "      <td>https://www.reddit.com/r/Minecraft/comments/v1...</td>\n",
       "      <td>2022-06-27 19:25:06.030120</td>\n",
       "      <td>2022-05-31 15:56:10+00:00</td>\n",
       "    </tr>\n",
       "    <tr>\n",
       "      <th>4</th>\n",
       "      <td>rDunneWortel</td>\n",
       "      <td>1654012535</td>\n",
       "      <td>I was mining down when I came across this beau...</td>\n",
       "      <td>Minecraft</td>\n",
       "      <td>Great start</td>\n",
       "      <td>https://www.reddit.com/r/Minecraft/comments/v1...</td>\n",
       "      <td>2022-06-27 19:25:06.030120</td>\n",
       "      <td>2022-05-31 15:55:35+00:00</td>\n",
       "    </tr>\n",
       "  </tbody>\n",
       "</table>\n",
       "</div>"
      ],
      "text/plain": [
       "           author  created_utc  \\\n",
       "3  I-am-reddit123   1654012570   \n",
       "4    rDunneWortel   1654012535   \n",
       "\n",
       "                                            selftext  subreddit  \\\n",
       "3  it keeps giving me the error of clear up space...  Minecraft   \n",
       "4  I was mining down when I came across this beau...  Minecraft   \n",
       "\n",
       "                                            title  \\\n",
       "3  need help with minecraft on my Nintendo switch   \n",
       "4                                     Great start   \n",
       "\n",
       "                                                 url  \\\n",
       "3  https://www.reddit.com/r/Minecraft/comments/v1...   \n",
       "4  https://www.reddit.com/r/Minecraft/comments/v1...   \n",
       "\n",
       "                  scrapetime                      date  \n",
       "3 2022-06-27 19:25:06.030120 2022-05-31 15:56:10+00:00  \n",
       "4 2022-06-27 19:25:06.030120 2022-05-31 15:55:35+00:00  "
      ]
     },
     "execution_count": 13,
     "metadata": {},
     "output_type": "execute_result"
    }
   ],
   "source": [
    "results = results[results['selftext'].str.len() > 0]\n",
    "results"
   ]
  }
 ],
 "metadata": {
  "kernelspec": {
   "display_name": "Python 3",
   "language": "python",
   "name": "python3"
  },
  "language_info": {
   "codemirror_mode": {
    "name": "ipython",
    "version": 3
   },
   "file_extension": ".py",
   "mimetype": "text/x-python",
   "name": "python",
   "nbconvert_exporter": "python",
   "pygments_lexer": "ipython3",
   "version": "3.8.8"
  }
 },
 "nbformat": 4,
 "nbformat_minor": 5
}
