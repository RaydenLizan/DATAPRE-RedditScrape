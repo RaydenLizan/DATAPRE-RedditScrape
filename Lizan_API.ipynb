{
 "cells": [
  {
   "cell_type": "markdown",
   "id": "4255d80d",
   "metadata": {},
   "source": [
    "# Reddit Scrape\n",
    "Rayden Lizan - S14"
   ]
  },
  {
   "cell_type": "code",
   "execution_count": 1,
   "id": "83b75bee",
   "metadata": {},
   "outputs": [
    {
     "name": "stdout",
     "output_type": "stream",
     "text": [
      "Requirement already satisfied: psaw in c:\\users\\rayde\\anaconda3\\lib\\site-packages (0.1.0)\n",
      "Requirement already satisfied: Click in c:\\users\\rayde\\anaconda3\\lib\\site-packages (from psaw) (7.1.2)\n",
      "Requirement already satisfied: requests in c:\\users\\rayde\\anaconda3\\lib\\site-packages (from psaw) (2.28.0)\n",
      "Requirement already satisfied: certifi>=2017.4.17 in c:\\users\\rayde\\anaconda3\\lib\\site-packages (from requests->psaw) (2020.12.5)\n",
      "Requirement already satisfied: charset-normalizer~=2.0.0 in c:\\users\\rayde\\anaconda3\\lib\\site-packages (from requests->psaw) (2.0.12)\n",
      "Requirement already satisfied: urllib3<1.27,>=1.21.1 in c:\\users\\rayde\\anaconda3\\lib\\site-packages (from requests->psaw) (1.26.4)\n",
      "Requirement already satisfied: idna<4,>=2.5 in c:\\users\\rayde\\anaconda3\\lib\\site-packages (from requests->psaw) (2.10)\n",
      "Note: you may need to restart the kernel to use updated packages.\n"
     ]
    }
   ],
   "source": [
    "pip install psaw"
   ]
  },
  {
   "cell_type": "code",
   "execution_count": 2,
   "id": "909b7099",
   "metadata": {},
   "outputs": [],
   "source": [
    "from psaw import PushshiftAPI\n",
    "import datetime as dt\n",
    "import pandas as pd\n",
    "pd.set_option('display.max_colwidth', None)"
   ]
  },
  {
   "cell_type": "markdown",
   "id": "c9a7949b",
   "metadata": {},
   "source": [
    "## Getting Data"
   ]
  },
  {
   "cell_type": "code",
   "execution_count": 3,
   "id": "650f397e",
   "metadata": {},
   "outputs": [],
   "source": [
    "api = PushshiftAPI()"
   ]
  },
  {
   "cell_type": "code",
   "execution_count": 4,
   "id": "1c1a707c",
   "metadata": {},
   "outputs": [],
   "source": [
    "def redditToDT(subreddit, start, end, maxresults, scrapetime):\n",
    "    results = pd.DataFrame(api.search_submissions(\n",
    "                                after=start,\n",
    "                                before=end,\n",
    "                                subreddit=subreddit,\n",
    "                                filter=['full_link','author', 'title', 'selftext', 'subreddit'],\n",
    "                                limit=maxresults))\n",
    "    \n",
    "\n",
    "    results['scrapetime'] = scrapetime\n",
    "    \n",
    "    results['created_utc'] = pd.to_datetime(results['created_utc'], utc=True, unit='s')\n",
    "    results = results.drop(columns=['d_', 'created'])\n",
    "    \n",
    "    \n",
    "    return results"
   ]
  },
  {
   "cell_type": "code",
   "execution_count": 5,
   "id": "79244aa7",
   "metadata": {},
   "outputs": [],
   "source": [
    "start = int(dt.datetime(2022, 4, 1).timestamp())\n",
    "end = int(dt.datetime(2022, 6, 1).timestamp())\n",
    "subreddit = 'Minecraft'\n",
    "scrapetime = dt.datetime.now()\n",
    "maxresults = 4"
   ]
  },
  {
   "cell_type": "code",
   "execution_count": 6,
   "id": "1759e010",
   "metadata": {
    "scrolled": true
   },
   "outputs": [
    {
     "data": {
      "text/html": [
       "<div>\n",
       "<style scoped>\n",
       "    .dataframe tbody tr th:only-of-type {\n",
       "        vertical-align: middle;\n",
       "    }\n",
       "\n",
       "    .dataframe tbody tr th {\n",
       "        vertical-align: top;\n",
       "    }\n",
       "\n",
       "    .dataframe thead th {\n",
       "        text-align: right;\n",
       "    }\n",
       "</style>\n",
       "<table border=\"1\" class=\"dataframe\">\n",
       "  <thead>\n",
       "    <tr style=\"text-align: right;\">\n",
       "      <th></th>\n",
       "      <th>author</th>\n",
       "      <th>created_utc</th>\n",
       "      <th>full_link</th>\n",
       "      <th>selftext</th>\n",
       "      <th>subreddit</th>\n",
       "      <th>title</th>\n",
       "      <th>scrapetime</th>\n",
       "    </tr>\n",
       "  </thead>\n",
       "  <tbody>\n",
       "    <tr>\n",
       "      <th>0</th>\n",
       "      <td>Thunderclap222333</td>\n",
       "      <td>2022-05-31 15:58:50+00:00</td>\n",
       "      <td>https://www.reddit.com/r/Minecraft/comments/v1titt/day_one_of_creating_dnd_dream_smp_members/</td>\n",
       "      <td></td>\n",
       "      <td>Minecraft</td>\n",
       "      <td>Day one of creating DnD Dream SMP members</td>\n",
       "      <td>2022-06-28 10:37:35.742262</td>\n",
       "    </tr>\n",
       "    <tr>\n",
       "      <th>1</th>\n",
       "      <td>SMH_My_Head</td>\n",
       "      <td>2022-05-31 15:58:08+00:00</td>\n",
       "      <td>https://www.reddit.com/r/Minecraft/comments/v1tiad/me_trying_to_place_the_glazed_terracotta_irl/</td>\n",
       "      <td></td>\n",
       "      <td>Minecraft</td>\n",
       "      <td>me trying to place the Glazed terracotta IRL</td>\n",
       "      <td>2022-06-28 10:37:35.742262</td>\n",
       "    </tr>\n",
       "    <tr>\n",
       "      <th>2</th>\n",
       "      <td>rDunneWortel</td>\n",
       "      <td>2022-05-31 15:57:26+00:00</td>\n",
       "      <td>https://www.reddit.com/r/Minecraft/comments/v1ths9/started_a_new_hardcore_after_10_minutes_i_came/</td>\n",
       "      <td></td>\n",
       "      <td>Minecraft</td>\n",
       "      <td>Started a new hardcore after 10 minutes I came across this beauty. Feeling lucky!!!</td>\n",
       "      <td>2022-06-28 10:37:35.742262</td>\n",
       "    </tr>\n",
       "    <tr>\n",
       "      <th>3</th>\n",
       "      <td>I-am-reddit123</td>\n",
       "      <td>2022-05-31 15:56:10+00:00</td>\n",
       "      <td>https://www.reddit.com/r/Minecraft/comments/v1tgtg/need_help_with_minecraft_on_my_nintendo_switch/</td>\n",
       "      <td>it keeps giving me the error of clear up space when ever I try to load any world I own, despite having 26 gigabytes left on my sd card</td>\n",
       "      <td>Minecraft</td>\n",
       "      <td>need help with minecraft on my Nintendo switch</td>\n",
       "      <td>2022-06-28 10:37:35.742262</td>\n",
       "    </tr>\n",
       "  </tbody>\n",
       "</table>\n",
       "</div>"
      ],
      "text/plain": [
       "              author               created_utc  \\\n",
       "0  Thunderclap222333 2022-05-31 15:58:50+00:00   \n",
       "1        SMH_My_Head 2022-05-31 15:58:08+00:00   \n",
       "2       rDunneWortel 2022-05-31 15:57:26+00:00   \n",
       "3     I-am-reddit123 2022-05-31 15:56:10+00:00   \n",
       "\n",
       "                                                                                            full_link  \\\n",
       "0       https://www.reddit.com/r/Minecraft/comments/v1titt/day_one_of_creating_dnd_dream_smp_members/   \n",
       "1    https://www.reddit.com/r/Minecraft/comments/v1tiad/me_trying_to_place_the_glazed_terracotta_irl/   \n",
       "2  https://www.reddit.com/r/Minecraft/comments/v1ths9/started_a_new_hardcore_after_10_minutes_i_came/   \n",
       "3  https://www.reddit.com/r/Minecraft/comments/v1tgtg/need_help_with_minecraft_on_my_nintendo_switch/   \n",
       "\n",
       "                                                                                                                                 selftext  \\\n",
       "0                                                                                                                                           \n",
       "1                                                                                                                                           \n",
       "2                                                                                                                                           \n",
       "3  it keeps giving me the error of clear up space when ever I try to load any world I own, despite having 26 gigabytes left on my sd card   \n",
       "\n",
       "   subreddit  \\\n",
       "0  Minecraft   \n",
       "1  Minecraft   \n",
       "2  Minecraft   \n",
       "3  Minecraft   \n",
       "\n",
       "                                                                                 title  \\\n",
       "0                                            Day one of creating DnD Dream SMP members   \n",
       "1                                         me trying to place the Glazed terracotta IRL   \n",
       "2  Started a new hardcore after 10 minutes I came across this beauty. Feeling lucky!!!   \n",
       "3                                       need help with minecraft on my Nintendo switch   \n",
       "\n",
       "                  scrapetime  \n",
       "0 2022-06-28 10:37:35.742262  \n",
       "1 2022-06-28 10:37:35.742262  \n",
       "2 2022-06-28 10:37:35.742262  \n",
       "3 2022-06-28 10:37:35.742262  "
      ]
     },
     "execution_count": 6,
     "metadata": {},
     "output_type": "execute_result"
    }
   ],
   "source": [
    "results = redditToDT(subreddit, start, end, maxresults, scrapetime)\n",
    "results"
   ]
  },
  {
   "cell_type": "markdown",
   "id": "b24e97ec",
   "metadata": {},
   "source": [
    "## Preprocessing and analyzing data"
   ]
  },
  {
   "cell_type": "code",
   "execution_count": 7,
   "id": "f38f31e3",
   "metadata": {},
   "outputs": [
    {
     "data": {
      "text/html": [
       "<div>\n",
       "<style scoped>\n",
       "    .dataframe tbody tr th:only-of-type {\n",
       "        vertical-align: middle;\n",
       "    }\n",
       "\n",
       "    .dataframe tbody tr th {\n",
       "        vertical-align: top;\n",
       "    }\n",
       "\n",
       "    .dataframe thead th {\n",
       "        text-align: right;\n",
       "    }\n",
       "</style>\n",
       "<table border=\"1\" class=\"dataframe\">\n",
       "  <thead>\n",
       "    <tr style=\"text-align: right;\">\n",
       "      <th></th>\n",
       "      <th>author</th>\n",
       "      <th>created_utc</th>\n",
       "      <th>full_link</th>\n",
       "      <th>selftext</th>\n",
       "      <th>subreddit</th>\n",
       "      <th>title</th>\n",
       "      <th>scrapetime</th>\n",
       "    </tr>\n",
       "  </thead>\n",
       "  <tbody>\n",
       "    <tr>\n",
       "      <th>3</th>\n",
       "      <td>I-am-reddit123</td>\n",
       "      <td>2022-05-31 15:56:10+00:00</td>\n",
       "      <td>https://www.reddit.com/r/Minecraft/comments/v1tgtg/need_help_with_minecraft_on_my_nintendo_switch/</td>\n",
       "      <td>it keeps giving me the error of clear up space when ever I try to load any world I own, despite having 26 gigabytes left on my sd card</td>\n",
       "      <td>Minecraft</td>\n",
       "      <td>need help with minecraft on my Nintendo switch</td>\n",
       "      <td>2022-06-28 10:37:35.742262</td>\n",
       "    </tr>\n",
       "  </tbody>\n",
       "</table>\n",
       "</div>"
      ],
      "text/plain": [
       "           author               created_utc  \\\n",
       "3  I-am-reddit123 2022-05-31 15:56:10+00:00   \n",
       "\n",
       "                                                                                            full_link  \\\n",
       "3  https://www.reddit.com/r/Minecraft/comments/v1tgtg/need_help_with_minecraft_on_my_nintendo_switch/   \n",
       "\n",
       "                                                                                                                                 selftext  \\\n",
       "3  it keeps giving me the error of clear up space when ever I try to load any world I own, despite having 26 gigabytes left on my sd card   \n",
       "\n",
       "   subreddit                                           title  \\\n",
       "3  Minecraft  need help with minecraft on my Nintendo switch   \n",
       "\n",
       "                  scrapetime  \n",
       "3 2022-06-28 10:37:35.742262  "
      ]
     },
     "execution_count": 7,
     "metadata": {},
     "output_type": "execute_result"
    }
   ],
   "source": [
    "results = results[results['selftext'].str.len() > 0]\n",
    "results"
   ]
  },
  {
   "cell_type": "code",
   "execution_count": 8,
   "id": "a88620cf",
   "metadata": {},
   "outputs": [
    {
     "name": "stderr",
     "output_type": "stream",
     "text": [
      "<ipython-input-8-47e442cec473>:1: SettingWithCopyWarning: \n",
      "A value is trying to be set on a copy of a slice from a DataFrame.\n",
      "Try using .loc[row_indexer,col_indexer] = value instead\n",
      "\n",
      "See the caveats in the documentation: https://pandas.pydata.org/pandas-docs/stable/user_guide/indexing.html#returning-a-view-versus-a-copy\n",
      "  results['Preprocessed post'] = results['selftext'].str.lower()\n"
     ]
    },
    {
     "data": {
      "text/html": [
       "<div>\n",
       "<style scoped>\n",
       "    .dataframe tbody tr th:only-of-type {\n",
       "        vertical-align: middle;\n",
       "    }\n",
       "\n",
       "    .dataframe tbody tr th {\n",
       "        vertical-align: top;\n",
       "    }\n",
       "\n",
       "    .dataframe thead th {\n",
       "        text-align: right;\n",
       "    }\n",
       "</style>\n",
       "<table border=\"1\" class=\"dataframe\">\n",
       "  <thead>\n",
       "    <tr style=\"text-align: right;\">\n",
       "      <th></th>\n",
       "      <th>author</th>\n",
       "      <th>created_utc</th>\n",
       "      <th>full_link</th>\n",
       "      <th>selftext</th>\n",
       "      <th>subreddit</th>\n",
       "      <th>title</th>\n",
       "      <th>scrapetime</th>\n",
       "      <th>Preprocessed post</th>\n",
       "    </tr>\n",
       "  </thead>\n",
       "  <tbody>\n",
       "    <tr>\n",
       "      <th>3</th>\n",
       "      <td>I-am-reddit123</td>\n",
       "      <td>2022-05-31 15:56:10+00:00</td>\n",
       "      <td>https://www.reddit.com/r/Minecraft/comments/v1tgtg/need_help_with_minecraft_on_my_nintendo_switch/</td>\n",
       "      <td>it keeps giving me the error of clear up space when ever I try to load any world I own, despite having 26 gigabytes left on my sd card</td>\n",
       "      <td>Minecraft</td>\n",
       "      <td>need help with minecraft on my Nintendo switch</td>\n",
       "      <td>2022-06-28 10:37:35.742262</td>\n",
       "      <td>it keeps giving me the error of clear up space when ever i try to load any world i own, despite having 26 gigabytes left on my sd card</td>\n",
       "    </tr>\n",
       "  </tbody>\n",
       "</table>\n",
       "</div>"
      ],
      "text/plain": [
       "           author               created_utc  \\\n",
       "3  I-am-reddit123 2022-05-31 15:56:10+00:00   \n",
       "\n",
       "                                                                                            full_link  \\\n",
       "3  https://www.reddit.com/r/Minecraft/comments/v1tgtg/need_help_with_minecraft_on_my_nintendo_switch/   \n",
       "\n",
       "                                                                                                                                 selftext  \\\n",
       "3  it keeps giving me the error of clear up space when ever I try to load any world I own, despite having 26 gigabytes left on my sd card   \n",
       "\n",
       "   subreddit                                           title  \\\n",
       "3  Minecraft  need help with minecraft on my Nintendo switch   \n",
       "\n",
       "                  scrapetime  \\\n",
       "3 2022-06-28 10:37:35.742262   \n",
       "\n",
       "                                                                                                                        Preprocessed post  \n",
       "3  it keeps giving me the error of clear up space when ever i try to load any world i own, despite having 26 gigabytes left on my sd card  "
      ]
     },
     "execution_count": 8,
     "metadata": {},
     "output_type": "execute_result"
    }
   ],
   "source": [
    "results['Preprocessed post'] = results['selftext'].str.lower()\n",
    "results"
   ]
  },
  {
   "cell_type": "code",
   "execution_count": 9,
   "id": "d68a9e74",
   "metadata": {},
   "outputs": [
    {
     "name": "stderr",
     "output_type": "stream",
     "text": [
      "<ipython-input-9-33740c68ad86>:1: SettingWithCopyWarning: \n",
      "A value is trying to be set on a copy of a slice from a DataFrame.\n",
      "Try using .loc[row_indexer,col_indexer] = value instead\n",
      "\n",
      "See the caveats in the documentation: https://pandas.pydata.org/pandas-docs/stable/user_guide/indexing.html#returning-a-view-versus-a-copy\n",
      "  results['Preprocessed post'] = results['Preprocessed post'].str.replace('[^a-zA-Z0-9]', ' ', regex=True).str.strip()\n"
     ]
    },
    {
     "data": {
      "text/html": [
       "<div>\n",
       "<style scoped>\n",
       "    .dataframe tbody tr th:only-of-type {\n",
       "        vertical-align: middle;\n",
       "    }\n",
       "\n",
       "    .dataframe tbody tr th {\n",
       "        vertical-align: top;\n",
       "    }\n",
       "\n",
       "    .dataframe thead th {\n",
       "        text-align: right;\n",
       "    }\n",
       "</style>\n",
       "<table border=\"1\" class=\"dataframe\">\n",
       "  <thead>\n",
       "    <tr style=\"text-align: right;\">\n",
       "      <th></th>\n",
       "      <th>author</th>\n",
       "      <th>created_utc</th>\n",
       "      <th>full_link</th>\n",
       "      <th>selftext</th>\n",
       "      <th>subreddit</th>\n",
       "      <th>title</th>\n",
       "      <th>scrapetime</th>\n",
       "      <th>Preprocessed post</th>\n",
       "    </tr>\n",
       "  </thead>\n",
       "  <tbody>\n",
       "    <tr>\n",
       "      <th>3</th>\n",
       "      <td>I-am-reddit123</td>\n",
       "      <td>2022-05-31 15:56:10+00:00</td>\n",
       "      <td>https://www.reddit.com/r/Minecraft/comments/v1tgtg/need_help_with_minecraft_on_my_nintendo_switch/</td>\n",
       "      <td>it keeps giving me the error of clear up space when ever I try to load any world I own, despite having 26 gigabytes left on my sd card</td>\n",
       "      <td>Minecraft</td>\n",
       "      <td>need help with minecraft on my Nintendo switch</td>\n",
       "      <td>2022-06-28 10:37:35.742262</td>\n",
       "      <td>it keeps giving me the error of clear up space when ever i try to load any world i own  despite having 26 gigabytes left on my sd card</td>\n",
       "    </tr>\n",
       "  </tbody>\n",
       "</table>\n",
       "</div>"
      ],
      "text/plain": [
       "           author               created_utc  \\\n",
       "3  I-am-reddit123 2022-05-31 15:56:10+00:00   \n",
       "\n",
       "                                                                                            full_link  \\\n",
       "3  https://www.reddit.com/r/Minecraft/comments/v1tgtg/need_help_with_minecraft_on_my_nintendo_switch/   \n",
       "\n",
       "                                                                                                                                 selftext  \\\n",
       "3  it keeps giving me the error of clear up space when ever I try to load any world I own, despite having 26 gigabytes left on my sd card   \n",
       "\n",
       "   subreddit                                           title  \\\n",
       "3  Minecraft  need help with minecraft on my Nintendo switch   \n",
       "\n",
       "                  scrapetime  \\\n",
       "3 2022-06-28 10:37:35.742262   \n",
       "\n",
       "                                                                                                                        Preprocessed post  \n",
       "3  it keeps giving me the error of clear up space when ever i try to load any world i own  despite having 26 gigabytes left on my sd card  "
      ]
     },
     "execution_count": 9,
     "metadata": {},
     "output_type": "execute_result"
    }
   ],
   "source": [
    "results['Preprocessed post'] = results['Preprocessed post'].str.replace('[^a-zA-Z0-9]', ' ', regex=True).str.strip()\n",
    "results"
   ]
  }
 ],
 "metadata": {
  "kernelspec": {
   "display_name": "Python 3",
   "language": "python",
   "name": "python3"
  },
  "language_info": {
   "codemirror_mode": {
    "name": "ipython",
    "version": 3
   },
   "file_extension": ".py",
   "mimetype": "text/x-python",
   "name": "python",
   "nbconvert_exporter": "python",
   "pygments_lexer": "ipython3",
   "version": "3.8.8"
  }
 },
 "nbformat": 4,
 "nbformat_minor": 5
}
